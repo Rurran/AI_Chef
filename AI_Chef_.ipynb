{
  "nbformat": 4,
  "nbformat_minor": 0,
  "metadata": {
    "colab": {
      "provenance": []
    },
    "kernelspec": {
      "name": "python3",
      "display_name": "Python 3"
    },
    "language_info": {
      "name": "python"
    }
  },
  "cells": [
    {
      "cell_type": "code",
      "source": [
        "%pip -q install google-genai"
      ],
      "metadata": {
        "id": "UCCbECexLk_h"
      },
      "execution_count": null,
      "outputs": []
    },
    {
      "cell_type": "code",
      "source": [
        "# Configura a API Key do Google Gemini\n",
        "\n",
        "import os\n",
        "from google.colab import userdata\n",
        "import json\n",
        "\n",
        "os.environ[\"GOOGLE_API_KEY\"] = userdata.get('GOOGLE_API_KEY')\n",
        "os.environ[\"GOOGLE_SHEETS_CREDENTIALS\"] = userdata.get('GOOGLE_SHEETS_CREDENTIALS')"
      ],
      "metadata": {
        "id": "NfCqHo1tLk8P"
      },
      "execution_count": null,
      "outputs": []
    },
    {
      "cell_type": "code",
      "source": [
        "# Configura o cliente da SDK do Gemini\n",
        "\n",
        "from google import genai\n",
        "\n",
        "client = genai.Client()\n",
        "\n",
        "MODEL_ID = \"gemini-2.0-flash\""
      ],
      "metadata": {
        "id": "bV4w0H5TLk5g"
      },
      "execution_count": null,
      "outputs": []
    },
    {
      "cell_type": "code",
      "source": [
        "# Instalar Framework de agentes do Google\n",
        "!pip install -q google-adk"
      ],
      "metadata": {
        "id": "a1eRPalxEnj7"
      },
      "execution_count": null,
      "outputs": []
    },
    {
      "cell_type": "code",
      "execution_count": null,
      "metadata": {
        "id": "aePV2bdfDeoW"
      },
      "outputs": [],
      "source": [
        "from google.adk.agents import Agent\n",
        "from google.adk.runners import Runner\n",
        "from google.adk.sessions import InMemorySessionService\n",
        "from google.adk.tools import google_search\n",
        "from google.genai import types  # Para criar conteúdos (Content e Part)\n",
        "from datetime import date\n",
        "import textwrap # Para formatar melhor a saída de texto\n",
        "from IPython.display import display, Markdown # Para exibir texto formatado no Colab\n",
        "import requests # Para fazer requisições HTTP\n",
        "import warnings\n",
        "\n",
        "warnings.filterwarnings(\"ignore\")"
      ]
    },
    {
      "cell_type": "code",
      "source": [
        "# Importa Google Planilhas\n",
        "!pip install gspread\n",
        "\n",
        "import gspread\n",
        "from google.oauth2.service_account import Credentials\n",
        "\n",
        "from google.adk.tools import BaseTool\n",
        "from pydantic import Field, BaseModel\n",
        "import gspread\n",
        "from google.oauth2.service_account import Credentials\n",
        "\n",
        "# Define o escopo necessário para acessar o Google Sheets\n",
        "SCOPES = [\n",
        "    'https://www.googleapis.com/auth/spreadsheets',\n",
        "    'https://www.googleapis.com/auth/drive'\n",
        "]"
      ],
      "metadata": {
        "id": "M9QQbeuSiD7b"
      },
      "execution_count": null,
      "outputs": []
    },
    {
      "cell_type": "code",
      "source": [
        "# Carrega as credenciais do arquivo JSON (substitua pelo caminho do seu arquivo)\n",
        "# Certifique-se de que você tem um arquivo de credenciais de conta de serviço e que a API do Google Sheets e Drive estão habilitadas\n",
        "# Este arquivo deve ser gerado no Google Cloud Platform\n",
        "# Recomenda-se armazenar este caminho ou o conteúdo do arquivo de forma segura, por exemplo, usando o Secret Manager ou Google Colab userdata\n",
        "try:\n",
        "    # Tentativa de carregar credenciais do Colab userdata se aplicável\n",
        "    # Substitua 'GOOGLE_SHEETS_CREDENTIALS' pelo nome da sua chave no userdata\n",
        "    creds_data_str = userdata.get('GOOGLE_SHEETS_CREDENTIALS') # Obtenha os dados da string\n",
        "    # Parse a string JSON em um dicionário\n",
        "    creds_data = json.loads(creds_data_str)\n",
        "    creds = Credentials.from_service_account_info(creds_data, scopes=SCOPES)\n",
        "except Exception as e:\n",
        "    print(f\"Erro ao carregar credenciais do userdata: {e}\")\n",
        "    print(\"Por favor, verifique se a chave 'GOOGLE_SHEETS_CREDENTIALS' está configurada corretamente no Google Colab userdata.\")\n",
        "    print(\"Alternativamente, você pode carregar as credenciais de um arquivo JSON no seu ambiente.\")\n",
        "    # Como alternativa, você pode carregar de um arquivo JSON local se não estiver usando userdata\n",
        "    # creds = Credentials.from_service_account_file('path/to/your/credentials.json', scopes=SCOPES)\n",
        "    creds = None # Define creds como None para evitar erros posteriores se o carregamento falhar\n"
      ],
      "metadata": {
        "id": "G-mKCKock_77"
      },
      "execution_count": null,
      "outputs": []
    },
    {
      "cell_type": "code",
      "source": [
        "# Autentica e cria o cliente gspread\n",
        "if creds:\n",
        "    client_gspread = gspread.authorize(creds)\n",
        "else:\n",
        "    client_gspread = None\n",
        "    print(\"Cliente gspread não autenticado. As ferramentas que dependem dele não funcionarão.\")"
      ],
      "metadata": {
        "id": "f9OihWAClV6i"
      },
      "execution_count": null,
      "outputs": []
    },
    {
      "cell_type": "code",
      "source": [
        "# Define o modelo de entrada para a função 'criar_planilha'\n",
        "class CriarPlanilhaInput(BaseModel):\n",
        "    \"\"\"Input para a ferramenta que cria uma nova planilha Google.\"\"\"\n",
        "    titulo: str = Field(description=\"O título da nova planilha Google.\")"
      ],
      "metadata": {
        "id": "tVY5SdjplYaK"
      },
      "execution_count": null,
      "outputs": []
    },
    {
      "cell_type": "code",
      "source": [
        "# Define o modelo de entrada para a função 'escrever_dados'\n",
        "class EscreverDadosInput(BaseModel):\n",
        "    \"\"\"Input para a ferramenta que escreve dados em uma planilha Google.\"\"\"\n",
        "    titulo_planilha: str = Field(description=\"O título da planilha onde os dados serão escritos.\")\n",
        "    nome_aba: str = Field(description=\"O nome da aba (sheet) onde os dados serão escritos (ex: 'Sheet1').\")\n",
        "    dados: list[list[str]] = Field(description=\"Uma lista de listas representando as linhas e colunas dos dados a serem escritos.\")\n",
        "    intervalo: str = Field(description=\"O intervalo onde os dados serão escritos (ex: 'A1').\")\n",
        "\n",
        "\n",
        "class GoogleSheetsTool(BaseTool):\n",
        "    \"\"\"\n",
        "    Uma ferramenta para interagir com o Google Sheets usando gspread.\n",
        "    Permite criar planilhas e escrever dados.\n",
        "    \"\"\"\n",
        "    name: str = \"google_sheets_tool\"\n",
        "    description: str = \"Ferramenta para criar e manipular planilhas Google Sheets.\"\n",
        "\n",
        "    def __init__(self, client_gspread: gspread.Client):\n",
        "        super().__init__(name=self.name, description=self.description)\n",
        "        self.client = client_gspread\n",
        "\n",
        "    def criar_planilha(self, input: CriarPlanilhaInput):\n",
        "        \"\"\"Cria uma nova planilha Google com o título especificado.\"\"\"\n",
        "        if not self.client:\n",
        "            return {\"error\": \"Cliente gspread não autenticado.\"}\n",
        "        try:\n",
        "            planilha = self.client.create(input.titulo)\n",
        "            return {\"sheet_url\": planilha.url, \"sheet_id\": planilha.id}\n",
        "        except Exception as e:\n",
        "            return {\"error\": f\"Erro ao criar planilha: {e}\"}\n",
        "\n",
        "    def escrever_dados(self, input: EscreverDadosInput):\n",
        "        \"\"\"Escreve dados em uma aba específica de uma planilha Google.\"\"\"\n",
        "        if not self.client:\n",
        "            return {\"error\": \"Cliente gspread não autenticado.\"}\n",
        "        try:\n",
        "            planilha = self.client.open(input.titulo_planilha)\n",
        "            aba = planilha.worksheet(input.nome_aba)\n",
        "            aba.update(input.intervalo, input.dados)\n",
        "            return {\"status\": \"Dados escritos com sucesso.\"}\n",
        "        except Exception as e:\n",
        "            return {\"error\": f\"Erro ao escrever dados na planilha: {e}\"}\n",
        "\n",
        "    def get_function_definitions(self):\n",
        "        return [\n",
        "            self.get_function_definition_from_method(self.criar_planilha, CriarPlanilhaInput),\n",
        "            self.get_function_definition_from_method(self.escrever_dados, EscreverDadosInput),\n",
        "            # Adicione definições para outras funções (como criar gráficos) aqui\n",
        "        ]"
      ],
      "metadata": {
        "id": "svlGNHgdld00"
      },
      "execution_count": null,
      "outputs": []
    },
    {
      "cell_type": "code",
      "source": [
        "# Instancia a ferramenta Google Sheets se o cliente gspread for válido\n",
        "if client_gspread:\n",
        "    google_sheets_tool_instance = GoogleSheetsTool(client_gspread)\n",
        "else:\n",
        "    google_sheets_tool_instance = None\n",
        "    print(\"Instância da ferramenta GoogleSheetsTool não criada devido à falha na autenticação.\")\n"
      ],
      "metadata": {
        "id": "iANveq61llZr"
      },
      "execution_count": null,
      "outputs": []
    },
    {
      "cell_type": "code",
      "source": [
        "# Função auxiliar que envia uma mensagem para um agente via Runner e retorna a resposta final\n",
        "def call_agent(agent: Agent, message_text: str) -> str:\n",
        "    # Cria um serviço de sessão em memória\n",
        "    session_service = InMemorySessionService()\n",
        "    # Cria uma nova sessão (você pode personalizar os IDs conforme necessário)\n",
        "    session = session_service.create_session(app_name=agent.name, user_id=\"user1\", session_id=\"session1\")\n",
        "    # Cria um Runner para o agente\n",
        "    runner = Runner(agent=agent, app_name=agent.name, session_service=session_service)\n",
        "    # Cria o conteúdo da mensagem de entrada\n",
        "    content = types.Content(role=\"user\", parts=[types.Part(text=message_text)])\n",
        "\n",
        "    final_response = \"\"\n",
        "    # Itera assincronamente pelos eventos retornados durante a execução do agente\n",
        "    for event in runner.run(user_id=\"user1\", session_id=\"session1\", new_message=content):\n",
        "        if event.is_final_response():\n",
        "          for part in event.content.parts:\n",
        "            if part.text is not None:\n",
        "              final_response += part.text\n",
        "              final_response += \"\\n\"\n",
        "    return final_response"
      ],
      "metadata": {
        "id": "_xP4lWhsS5ko"
      },
      "execution_count": null,
      "outputs": []
    },
    {
      "cell_type": "code",
      "source": [
        "# Função auxiliar para exibir texto formatado em Markdown no Colab\n",
        "def to_markdown(text):\n",
        "  text = text.replace('•', '  *')\n",
        "  return Markdown(textwrap.indent(text, '> ', predicate=lambda _: True))"
      ],
      "metadata": {
        "id": "8dosiodaxfFR"
      },
      "execution_count": null,
      "outputs": []
    },
    {
      "cell_type": "code",
      "source": [
        "# Define o modelo de entrada para a função 'criar_grafico'\n",
        "class CriarGraficoInput(BaseModel):\n",
        "    \"\"\"Input para a ferramenta que cria um gráfico em uma planilha Google.\"\"\"\n",
        "    titulo_planilha: str = Field(description=\"O título da planilha onde o gráfico será criado.\")\n",
        "    nome_aba: str = Field(description=\"O nome da aba (sheet) onde o gráfico será criado.\")\n",
        "    intervalo_dados: str = Field(description=\"O intervalo dos dados a serem plotados (ex: 'A1:B5').\")\n",
        "    titulo_grafico: str = Field(description=\"O título do gráfico.\")\n",
        "    tipo_grafico: str = Field(description=\"O tipo de gráfico (ex: 'LINE' para gráfico de linha).\") # Podemos adicionar mais tipos depois\n",
        "    intervalo_posicao: str = Field(description=\"O intervalo onde o gráfico será posicionado (ex: 'D1').\")\n",
        "\n",
        "\n",
        "class GoogleSheetsTool(BaseTool):\n",
        "    \"\"\"\n",
        "    Uma ferramenta para interagir com o Google Sheets usando gspread.\n",
        "    Permite criar planilhas, escrever dados e criar gráficos.\n",
        "    \"\"\"\n",
        "    name: str = \"google_sheets_tool\"\n",
        "    description: str = \"Ferramenta para criar e manipular planilhas Google Sheets, incluindo criação de gráficos.\"\n",
        "\n",
        "    def __init__(self, client_gspread: gspread.Client):\n",
        "        super().__init__(name=self.name, description=self.description)\n",
        "        self.client = client_gspread\n",
        "\n",
        "    def criar_planilha(self, input: CriarPlanilhaInput):\n",
        "        \"\"\"Cria uma nova planilha Google com o título especificado.\"\"\"\n",
        "        if not self.client:\n",
        "            return {\"error\": \"Cliente gspread não autenticado.\"}\n",
        "        try:\n",
        "            planilha = self.client.create(input.titulo)\n",
        "            return {\"sheet_url\": planilha.url, \"sheet_id\": planilha.id}\n",
        "        except Exception as e:\n",
        "            return {\"error\": f\"Erro ao criar planilha: {e}\"}\n",
        "\n",
        "    def escrever_dados(self, input: EscreverDadosInput):\n",
        "        \"\"\"Escreve dados em uma aba específica de uma planilha Google.\"\"\"\n",
        "        if not self.client:\n",
        "            return {\"error\": \"Cliente gspread não autenticado.\"}\n",
        "        try:\n",
        "            planilha = self.client.open(input.titulo_planilha)\n",
        "            aba = planilha.worksheet(input.nome_aba)\n",
        "            aba.update(input.intervalo, input.dados)\n",
        "            return {\"status\": \"Dados escritos com sucesso.\"}\n",
        "        except Exception as e:\n",
        "            return {\"error\": f\"Erro ao escrever dados na planilha: {e}\"}\n",
        "\n",
        "    def criar_grafico(self, input: CriarGraficoInput):\n",
        "        \"\"\"Cria um gráfico em uma aba específica de uma planilha Google.\"\"\"\n",
        "        if not self.client:\n",
        "            return {\"error\": \"Cliente gspread não autenticado.\"}\n",
        "        try:\n",
        "            planilha = self.client.open(input.titulo_planilha)\n",
        "            aba = planilha.worksheet(input.nome_aba)\n",
        "\n",
        "\n",
        "            # A API do Google Sheets é um pouco verbosa para criar gráficos diretamente via gspread.\n",
        "            # Precisamos construir a solicitação de adição de gráfico.\n",
        "            # Este é um exemplo simplificado para um gráfico de linha.\n",
        "            # Para outros tipos de gráfico e configurações, a estrutura da solicitação muda.\n",
        "\n",
        "            requests_body = {\n",
        "                'addChart': {\n",
        "                    'chart': {\n",
        "                        'spec': {\n",
        "                            'title': input.titulo_grafico,\n",
        "                            'basicChart': {\n",
        "                                'chartType': input.tipo_grafico, # Ex: 'LINE'\n",
        "                                'legendPosition': 'BOTTOM_LEGEND',\n",
        "                                'domains': [\n",
        "                                    {\n",
        "                                        'domain': {\n",
        "                                            'sourceRange': {\n",
        "                                                'sources': [\n",
        "                                                    {\n",
        "                                                        'sheetId': aba.id,\n",
        "                                                        'range': f\"{aba.title}!{input.intervalo_dados.split(':')[0]}:{input.intervalo_dados.split(':')[0]}\" # Eixo X\n",
        "                                                    }\n",
        "                                                ]\n",
        "                                            }\n",
        "                                        }\n",
        "                                    }\n",
        "                                ],\n",
        "                                'series': [\n",
        "                                    {\n",
        "                                        'series': {\n",
        "                                            'sourceRange': {\n",
        "                                                'sources': [\n",
        "                                                    {\n",
        "                                                        'sheetId': aba.id,\n",
        "                                                        'range': f\"{aba.title}!{input.intervalo_dados.split(':')[1]}:{input.intervalo_dados.split(':')[1]}\" # Eixo Y (simples, assumindo 2 colunas)\n",
        "                                                    }\n",
        "                                                ]\n",
        "                                            }\n",
        "                                        },\n",
        "                                        'targetAxis': 'LEFT_AXIS'\n",
        "                                    }\n",
        "                                ],\n",
        "                                'headerCount': 1 # Assumindo que a primeira linha é cabeçalho\n",
        "                            }\n",
        "                        },\n",
        "                        'position': {\n",
        "                            'overlayPosition': {\n",
        "                                'anchorCell': {\n",
        "                                    'sheetId': aba.id,\n",
        "                                    'rowIndex': gspread.utils.a1_to_rowcol(input.intervalo_posicao)[0] - 1,\n",
        "                                    'columnIndex': gspread.utils.a1_to_rowcol(input.intervalo_posicao)[1] - 1,\n",
        "                                },\n",
        "                                'offsetXPixels': 5,\n",
        "                                'offsetYPixels': 5,\n",
        "                                'widthPixels': 600,\n",
        "                                'heightPixels': 400\n",
        "                            }\n",
        "                        }\n",
        "                    }\n",
        "                }\n",
        "            }\n",
        "\n",
        "            # Para executar a solicitação, precisamos acessar o cliente subjacente do gspread\n",
        "            # e usar o método batch_update.\n",
        "\n",
        "            self.client.batch_update(planilha.id, requests_body)\n",
        "\n",
        "            return {\"status\": f\"Gráfico '{input.titulo_grafico}' criado com sucesso na aba '{input.nome_aba}'.\"}\n",
        "        except Exception as e:\n",
        "            return {\"error\": f\"Erro ao criar gráfico: {e}\"}\n",
        "\n",
        "    def get_function_definitions(self):\n",
        "        return [\n",
        "            self.get_function_definition_from_method(self.criar_planilha, CriarPlanilhaInput),\n",
        "            self.get_function_definition_from_method(self.escrever_dados, EscreverDadosInput),\n",
        "            self.get_function_definition_from_method(self.criar_grafico, CriarGraficoInput), # Adicione a nova função aqui\n",
        "        ]"
      ],
      "metadata": {
        "id": "kRechPtRwyL5"
      },
      "execution_count": null,
      "outputs": []
    },
    {
      "cell_type": "code",
      "source": [
        "##########################################\n",
        "# --- Agente 1: Buscador de Receitas --- #\n",
        "##########################################\n",
        "def agente_buscador(ingredientes):\n",
        "\n",
        "    buscador = Agent(\n",
        "        name=\"agente_buscador\",\n",
        "        model=\"gemini-2.0-flash\",\n",
        "        instruction=\"\"\"\n",
        "        Você é um assistente de pesquisa. A sua tarefa é usar a ferramenta de busca do google (google_search) e o youtube\n",
        "        para buscar receitas que contenham os ingredientes informados.\n",
        "        Foque em no máximo 10 receitas mais compativeis com os ingredientes.\n",
        "        Se uma receita tiver somente um dos ingredientes, é possível que ele não seja tão relevante assim\n",
        "        e pode ser substituído por outra que tenha mais.\n",
        "        Essas receitas devem ter lista de ingredientes e modo de preparo.\n",
        "        \"\"\",\n",
        "        description=\"Agente que busca receitas no Google e Youtube\",\n",
        "        tools=[google_search]\n",
        "    )\n",
        "\n",
        "    entrada_do_agente_buscador = f\"Ingredientes: {ingredientes}\"\n",
        "\n",
        "    receitas = call_agent(buscador, entrada_do_agente_buscador)\n",
        "    return receitas"
      ],
      "metadata": {
        "id": "0CX4OT9WSyTl"
      },
      "execution_count": null,
      "outputs": []
    },
    {
      "cell_type": "code",
      "source": [
        "################################################\n",
        "# --- Agente 2: Especialista Gastronômico --- #\n",
        "################################################\n",
        "def agente_gastronomico(ingredientes, receitas_buscadas):\n",
        "    gastronomico = Agent(\n",
        "        name=\"agente_gastronomico\",\n",
        "        model=\"gemini-2.0-flash\",\n",
        "        instruction=\"\"\"\n",
        "        Você é um especialista em gastronomia. Com base na lista de receitas com os ingredientes, você deve:\n",
        "        Montar uma lista com os receitas e classifica-las de acordo com a compatibilidade com os ingredientes.\n",
        "        Escolher as 5 melhores receitas e retornar elas com seus ingredientes e modo de preparo.\n",
        "        Usar a ferramenta do Google Search (google_search) e do youtube para buscar mais informações sobre as receitas e videos ensinando como preprar.\n",
        "        Ao final, você irá montar uma lista dessas receitas com seus ingredientes, modo de prepraro, tempo de preparo, rendimento e até 2 videos cada.\n",
        "        \"\"\",\n",
        "        description=\"Agente que escolhe as melhores receitas\",\n",
        "        tools=[google_search]\n",
        "    )\n",
        "\n",
        "    entrada_do_agente_gastronomico = f\"Ingredientes:{ingredientes}\\nReceitas buscadas: {receitas_buscadas}\"\n",
        "    # Executa o agente\n",
        "    melhores_receitas = call_agent(gastronomico, entrada_do_agente_gastronomico)\n",
        "    return melhores_receitas"
      ],
      "metadata": {
        "id": "y3VO1uo5_ghO"
      },
      "execution_count": null,
      "outputs": []
    },
    {
      "cell_type": "code",
      "source": [
        "######################################\n",
        "# --- Agente 3: Nutricionista --- #\n",
        "######################################\n",
        "def agente_nutricionista(ingredientes, melhores_receitas):\n",
        "  # Inclui a nova ferramenta se ela foi instanciada com sucesso\n",
        "    tools_list = [google_search]\n",
        "    if google_sheets_tool_instance:\n",
        "        tools_list.append(google_sheets_tool_instance)\n",
        "    else:\n",
        "        print(\"Ferramenta Google Sheets não disponível para o agente nutricionista.\")\n",
        "\n",
        "    nutricionista = Agent(\n",
        "        name=\"agente_nutricionista\",\n",
        "        model=\"gemini-2.0-flash\",\n",
        "        instruction=\"\"\"\n",
        "            Você é um nutricionista especializado em receitas saudáveis e equilibradas.\n",
        "            Com base na lista de ingredientes e receitas selecionadas, você deve:\n",
        "            Avaliar a qualidade nutricional de cada receita, considerando os macronutrientes, micronutrientes e possíveis restrições alimentares.\n",
        "            Sugerir ajustes nos ingredientes ou no modo de preparo para tornar as receitas mais saudáveis, se necessário.\n",
        "            Ao final, você irá montar uma lista dessas receitas com seus ingredientes, modo de prepraro, tempo de preparo, rendimento e até 2 videos cada.\n",
        "            **Usando a ferramenta google_sheets_tool e chamando a função criar_grafico você DEVE criar uma nova planilha Google com o título 'Comparativo Nutricional de Receitas'.**\n",
        "            **Nesta planilha, na 'Sheet1', escreva uma tabela com as informações nutricionais principais de cada receita (por exemplo, Calorias, Proteínas, Carboidratos, Gorduras) usando a ferramenta google_sheets_tool e especifique o intervalo onde escrever.**\n",
        "            \"\"\",\n",
        "        description=\"Agente nutricionista que analisa receitas e cria relatórios e gráficos em Google Sheets.\",\n",
        "        tools=tools_list # Usa a lista de ferramentas com ou sem a ferramenta Google Sheets\n",
        "    )\n",
        "    entrada_do_agente_nutricionista = f\"Ingredientes: {ingredientes}\\nMelhores receitas: {melhores_receitas}\"\n",
        "    # Executa o agente\n",
        "    refeicoes = call_agent(nutricionista, entrada_do_agente_nutricionista)\n",
        "    return refeicoes"
      ],
      "metadata": {
        "id": "uOqlg2TRLVh1"
      },
      "execution_count": null,
      "outputs": []
    },
    {
      "cell_type": "code",
      "source": [
        "##########################################\n",
        "# --- Agente 4: Redator --- #\n",
        "##########################################\n",
        "def agente_redator(ingredientes, refeicoes_selecionadas):\n",
        "  # Inclui a nova ferramenta se ela foi instanciada com sucesso\n",
        "    tools_list = [google_search]\n",
        "    if google_sheets_tool_instance:\n",
        "        tools_list.append(google_sheets_tool_instance)\n",
        "    else:\n",
        "        print(\"Ferramenta Google Sheets não disponível para o agente redator.\")\n",
        "\n",
        "    redator = Agent(\n",
        "        name=\"agente_redator\",\n",
        "        model=\"gemini-2.0-flash\",\n",
        "        instruction=\"\"\"\n",
        "            Você é um redator e escritor focado em revistas gastronomicas, a partir da lista de refeições selecionadas, você deve:\n",
        "            Montar uma lista com as refeições, uma breve história, seus ingredientes, modo de preparo, tempo de preparo, rendimento e até 2 videos cada.\n",
        "            Também devera criar tabelas com as informações nutricionais de cada refeição e graficos de linhas comparando as refeições utilizanda a ferramenta (google_sheets_tool) e chamando a função (criar_grafico).\n",
        "            **Em seguida, usando a ferramenta google_sheets_tool e chamando a funçaõ criar_grafico, junto dos dados que você escreveu, crie um GRÁFICO DE LINHA comparando a quantidade de Calorias entre as receitas. Posicione o gráfico na mesma aba, em um intervalo livre como 'D1'. O título do gráfico deve ser 'Comparativo de Calorias'.**\n",
        "            E por fim deve revisar a ortografia e gramática do texto.\n",
        "            \"\"\",\n",
        "        description=\"Agente redator.\",\n",
        "        tools=tools_list # Usa a lista de ferramentas com ou sem a ferramenta Google Sheets]\n",
        "    )\n",
        "    entrada_do_agente_redator = f\"Ingredientes: {ingredientes}\\nRascunho: {refeicoes_selecionadas}\"\n",
        "    # Executa o agente\n",
        "    receitas_finais = call_agent(redator, refeicoes_selecionadas)\n",
        "    return receitas_finais"
      ],
      "metadata": {
        "id": "hweUZ263Yek1"
      },
      "execution_count": null,
      "outputs": []
    },
    {
      "cell_type": "code",
      "source": [
        "data_de_hoje = date.today().strftime(\"%d/%m/%Y\")\n",
        "\n",
        "print(\"🍕😋 Vamos procurar a melhor receita para você? 😋🥗\")\n",
        "\n",
        "# --- Obter o Ingredientes do Usuário ---\n",
        "ingredientes = input(\"❓ Por favor, digite quais ingrediente você possui para cozinhar: \")\n",
        "\n",
        "# Inserir lógica do sistema de agentes ################################################\n",
        "if not ingredientes:\n",
        "    print(\"Você esqueceu de digitar os ingredientes!\")\n",
        "else:\n",
        "    print(f\"Maravilha! Vamos então procurar as melhores receitas com {ingredientes}\")\n",
        "\n",
        "    receitas_buscadas = agente_buscador(ingredientes)\n",
        "    print(\"\\n--- 📝 Resultado do Agente 1 (Buscador de Receitas) ---\\n\")\n",
        "    display(to_markdown(receitas_buscadas))\n",
        "    print(\"--------------------------------------------------------------\")\n",
        "\n",
        "    melhores_receitas = agente_gastronomico(ingredientes, receitas_buscadas)\n",
        "    print(\"\\n--- 📝 Resultado do Agente 2 (Chefe Gastronômico) ---\\n\")\n",
        "    display(to_markdown(melhores_receitas))\n",
        "    print(\"--------------------------------------------------------------\")\n",
        "\n",
        "    # Passa a instância da ferramenta se ela existir\n",
        "    refeicoes_selecionadas = agente_nutricionista(ingredientes, melhores_receitas)\n",
        "    print(\"\\n--- 📝 Resultado do Agente 3 (Nutricionista) ---\\n\")\n",
        "    display(to_markdown(refeicoes_selecionadas))\n",
        "    print(\"--------------------------------------------------------------\")\n",
        "\n",
        "    # Passa a instância da ferramenta se ela existir\n",
        "    receitas_finais = agente_redator(ingredientes, refeicoes_selecionadas)\n",
        "    print(\"\\n--- 📝 Resultado do Agente 4 (Redator) ---\\n\")\n",
        "    display(to_markdown(receitas_finais))\n",
        "    print(\"--------------------------------------------------------------\")"
      ],
      "metadata": {
        "id": "6xzI6LKzxxnN"
      },
      "execution_count": null,
      "outputs": []
    }
  ]
}